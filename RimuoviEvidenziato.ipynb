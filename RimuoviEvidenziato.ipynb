{
 "cells": [
  {
   "cell_type": "code",
   "execution_count": 2,
   "metadata": {},
   "outputs": [
    {
     "name": "stdout",
     "output_type": "stream",
     "text": [
      "Evidenziato rimosso. File salvato come: /Users/roberto/Desktop/UNI_DATASCIENCE/Statistics/libro senza evidenziat/libroblu.pdf\n"
     ]
    }
   ],
   "source": [
    "import fitz  # PyMuPDF\n",
    "\n",
    "def remove_highlights_from_pdf(input_pdf, output_pdf):\n",
    "    # Apri il file PDF\n",
    "    doc = fitz.open(input_pdf)\n",
    "    \n",
    "    # Itera su tutte le pagine del PDF\n",
    "    for page_num in range(doc.page_count):\n",
    "        page = doc[page_num]\n",
    "        \n",
    "        # Trova tutte le annotazioni (incluse quelle di evidenziazione)\n",
    "        for annot in page.annots():\n",
    "            if annot.type[0] == 8:  # Il tipo 8 corrisponde all'evidenziatore\n",
    "                # Rimuovi l'annotazione di evidenziazione\n",
    "                page.delete_annot(annot)\n",
    "    \n",
    "    # Salva il PDF senza ottimizzazioni\n",
    "    doc.save(output_pdf, garbage=4, deflate=False, clean=False)\n",
    "    doc.close()\n",
    "    print(f\"Evidenziato rimosso. File salvato come: {output_pdf}\")\n",
    "\n",
    "# Esempio di utilizzo\n",
    "input_pdf = \"/Users/roberto/Desktop/UNI_DATASCIENCE/Statistics/libroBLU.pdf\"\n",
    "output_pdf = \"/Users/roberto/Desktop/UNI_DATASCIENCE/Statistics/libro senza evidenziat/libroblu.pdf\"\n",
    "remove_highlights_from_pdf(input_pdf, output_pdf)\n"
   ]
  },
  {
   "cell_type": "code",
   "execution_count": 3,
   "metadata": {},
   "outputs": [
    {
     "name": "stdout",
     "output_type": "stream",
     "text": [
      "All highlights removed. File saved as: /Users/roberto/Desktop/UNI_DATASCIENCE/Statistics/libro senza evidenziat/libroblu.pdf\n"
     ]
    }
   ],
   "source": [
    "import fitz  # PyMuPDF\n",
    "\n",
    "def remove_highlights_from_pdf(input_pdf, output_pdf):\n",
    "    # Open the PDF file\n",
    "    doc = fitz.open(input_pdf)\n",
    "    \n",
    "    # Iterate over all pages in the PDF\n",
    "    for page_num in range(doc.page_count):\n",
    "        page = doc[page_num]\n",
    "        \n",
    "        # Find all annotations on the page (including highlights)\n",
    "        for annot in page.annots():\n",
    "            if annot.type[0] == 8:  # Type 8 corresponds to highlights\n",
    "                # Remove the highlight annotation\n",
    "                page.delete_annot(annot)\n",
    "    \n",
    "    # Save the PDF without optimizations\n",
    "    doc.save(output_pdf, garbage=4, deflate=False, clean=False)\n",
    "    doc.close()\n",
    "    print(f\"All highlights removed. File saved as: {output_pdf}\")\n",
    "\n",
    "# Example usage\n",
    "input_pdf = \"/Users/roberto/Desktop/UNI_DATASCIENCE/Statistics/libroBLU.pdf\"\n",
    "output_pdf = \"/Users/roberto/Desktop/UNI_DATASCIENCE/Statistics/libro senza evidenziat/libroblu.pdf\"\n",
    "remove_highlights_from_pdf(input_pdf, output_pdf)\n"
   ]
  }
 ],
 "metadata": {
  "kernelspec": {
   "display_name": "Python 3",
   "language": "python",
   "name": "python3"
  },
  "language_info": {
   "codemirror_mode": {
    "name": "ipython",
    "version": 3
   },
   "file_extension": ".py",
   "mimetype": "text/x-python",
   "name": "python",
   "nbconvert_exporter": "python",
   "pygments_lexer": "ipython3",
   "version": "3.12.3"
  },
  "orig_nbformat": 4
 },
 "nbformat": 4,
 "nbformat_minor": 2
}
